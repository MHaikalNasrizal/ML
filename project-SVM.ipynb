{
 "cells": [
  {
   "cell_type": "markdown",
   "metadata": {},
   "source": [
    "# Project File\n"
   ]
  },
  {
   "cell_type": "code",
   "execution_count": 25,
   "metadata": {},
   "outputs": [],
   "source": [
    "# Importing common libraries \n",
    "import pandas as pd\n",
    "import numpy as np\n",
    "from sklearn import metrics\n",
    "import matplotlib.pyplot as plt\n",
    "import seaborn as sns\n",
    "%matplotlib inline\n",
    "from sklearn.preprocessing import LabelEncoder\n",
    "from sklearn.preprocessing import OneHotEncoder\n",
    "from sklearn.model_selection import train_test_split\n",
    "from sklearn.ensemble import RandomForestClassifier\n",
    "from sklearn.metrics import accuracy_score\n",
    "from sklearn.preprocessing import LabelEncoder\n",
    "from sklearn.impute import SimpleImputer\n",
    "from sklearn.preprocessing import StandardScaler\n",
    "from sklearn.model_selection import GridSearchCV\n",
    "\n",
    "import warnings \n",
    "warnings.simplefilter(action='ignore', category=FutureWarning)\n"
   ]
  },
  {
   "cell_type": "code",
   "execution_count": 26,
   "metadata": {},
   "outputs": [],
   "source": [
    "data = pd.read_csv(\"data\\\\crime.csv\", encoding='latin1')\n",
    "\n"
   ]
  },
  {
   "cell_type": "code",
   "execution_count": 27,
   "metadata": {},
   "outputs": [],
   "source": [
    "subset_size = 500"
   ]
  },
  {
   "cell_type": "code",
   "execution_count": 28,
   "metadata": {},
   "outputs": [],
   "source": [
    "data = data.sample(n=subset_size, random_state=42)"
   ]
  },
  {
   "cell_type": "code",
   "execution_count": 29,
   "metadata": {},
   "outputs": [
    {
     "data": {
      "text/html": [
       "<div>\n",
       "<style scoped>\n",
       "    .dataframe tbody tr th:only-of-type {\n",
       "        vertical-align: middle;\n",
       "    }\n",
       "\n",
       "    .dataframe tbody tr th {\n",
       "        vertical-align: top;\n",
       "    }\n",
       "\n",
       "    .dataframe thead th {\n",
       "        text-align: right;\n",
       "    }\n",
       "</style>\n",
       "<table border=\"1\" class=\"dataframe\">\n",
       "  <thead>\n",
       "    <tr style=\"text-align: right;\">\n",
       "      <th></th>\n",
       "      <th>INCIDENT_NUMBER</th>\n",
       "      <th>OFFENSE_CODE</th>\n",
       "      <th>OFFENSE_CODE_GROUP</th>\n",
       "      <th>OFFENSE_DESCRIPTION</th>\n",
       "      <th>DISTRICT</th>\n",
       "      <th>REPORTING_AREA</th>\n",
       "      <th>SHOOTING</th>\n",
       "      <th>OCCURRED_ON_DATE</th>\n",
       "      <th>YEAR</th>\n",
       "      <th>MONTH</th>\n",
       "      <th>DAY_OF_WEEK</th>\n",
       "      <th>HOUR</th>\n",
       "      <th>UCR_PART</th>\n",
       "      <th>STREET</th>\n",
       "      <th>Lat</th>\n",
       "      <th>Long</th>\n",
       "      <th>Location</th>\n",
       "    </tr>\n",
       "  </thead>\n",
       "  <tbody>\n",
       "    <tr>\n",
       "      <th>35710</th>\n",
       "      <td>I182032558</td>\n",
       "      <td>3803</td>\n",
       "      <td>Motor Vehicle Accident Response</td>\n",
       "      <td>M/V ACCIDENT - PERSONAL INJURY</td>\n",
       "      <td>B2</td>\n",
       "      <td>179</td>\n",
       "      <td>NaN</td>\n",
       "      <td>2018-05-01 08:52:00</td>\n",
       "      <td>2018</td>\n",
       "      <td>5</td>\n",
       "      <td>Tuesday</td>\n",
       "      <td>8</td>\n",
       "      <td>Part Three</td>\n",
       "      <td>GERARD ST</td>\n",
       "      <td>42.330628</td>\n",
       "      <td>-71.072107</td>\n",
       "      <td>(42.33062755, -71.07210653)</td>\n",
       "    </tr>\n",
       "    <tr>\n",
       "      <th>270509</th>\n",
       "      <td>I152102923</td>\n",
       "      <td>614</td>\n",
       "      <td>Larceny From Motor Vehicle</td>\n",
       "      <td>LARCENY THEFT FROM MV - NON-ACCESSORY</td>\n",
       "      <td>D4</td>\n",
       "      <td>170</td>\n",
       "      <td>NaN</td>\n",
       "      <td>2015-12-13 17:07:00</td>\n",
       "      <td>2015</td>\n",
       "      <td>12</td>\n",
       "      <td>Sunday</td>\n",
       "      <td>17</td>\n",
       "      <td>Part One</td>\n",
       "      <td>MASSACHUSETTS AVE</td>\n",
       "      <td>42.335621</td>\n",
       "      <td>-71.075824</td>\n",
       "      <td>(42.33562126, -71.07582361)</td>\n",
       "    </tr>\n",
       "    <tr>\n",
       "      <th>74362</th>\n",
       "      <td>I172098993</td>\n",
       "      <td>1402</td>\n",
       "      <td>Vandalism</td>\n",
       "      <td>VANDALISM</td>\n",
       "      <td>C11</td>\n",
       "      <td>357</td>\n",
       "      <td>NaN</td>\n",
       "      <td>2017-11-28 22:49:00</td>\n",
       "      <td>2017</td>\n",
       "      <td>11</td>\n",
       "      <td>Tuesday</td>\n",
       "      <td>22</td>\n",
       "      <td>Part Two</td>\n",
       "      <td>WESTVILLE ST</td>\n",
       "      <td>42.300106</td>\n",
       "      <td>-71.071027</td>\n",
       "      <td>(42.30010597, -71.07102710)</td>\n",
       "    </tr>\n",
       "    <tr>\n",
       "      <th>968</th>\n",
       "      <td>I182069871</td>\n",
       "      <td>802</td>\n",
       "      <td>Simple Assault</td>\n",
       "      <td>ASSAULT SIMPLE - BATTERY</td>\n",
       "      <td>B2</td>\n",
       "      <td>319</td>\n",
       "      <td>NaN</td>\n",
       "      <td>2018-08-31 08:22:06</td>\n",
       "      <td>2018</td>\n",
       "      <td>8</td>\n",
       "      <td>Friday</td>\n",
       "      <td>8</td>\n",
       "      <td>Part Two</td>\n",
       "      <td>SEAVER ST</td>\n",
       "      <td>42.306040</td>\n",
       "      <td>-71.086212</td>\n",
       "      <td>(42.30603974, -71.08621240)</td>\n",
       "    </tr>\n",
       "    <tr>\n",
       "      <th>318360</th>\n",
       "      <td>I152049968</td>\n",
       "      <td>3301</td>\n",
       "      <td>Verbal Disputes</td>\n",
       "      <td>VERBAL DISPUTE</td>\n",
       "      <td>D14</td>\n",
       "      <td>939</td>\n",
       "      <td>NaN</td>\n",
       "      <td>2015-06-16 17:25:00</td>\n",
       "      <td>2015</td>\n",
       "      <td>6</td>\n",
       "      <td>Tuesday</td>\n",
       "      <td>17</td>\n",
       "      <td>Part Three</td>\n",
       "      <td>FANEUIL ST</td>\n",
       "      <td>42.355553</td>\n",
       "      <td>-71.152747</td>\n",
       "      <td>(42.35555336, -71.15274721)</td>\n",
       "    </tr>\n",
       "  </tbody>\n",
       "</table>\n",
       "</div>"
      ],
      "text/plain": [
       "       INCIDENT_NUMBER  OFFENSE_CODE               OFFENSE_CODE_GROUP  \\\n",
       "35710       I182032558          3803  Motor Vehicle Accident Response   \n",
       "270509      I152102923           614       Larceny From Motor Vehicle   \n",
       "74362       I172098993          1402                        Vandalism   \n",
       "968         I182069871           802                   Simple Assault   \n",
       "318360      I152049968          3301                  Verbal Disputes   \n",
       "\n",
       "                          OFFENSE_DESCRIPTION DISTRICT REPORTING_AREA  \\\n",
       "35710          M/V ACCIDENT - PERSONAL INJURY       B2            179   \n",
       "270509  LARCENY THEFT FROM MV - NON-ACCESSORY       D4            170   \n",
       "74362                               VANDALISM      C11            357   \n",
       "968                  ASSAULT SIMPLE - BATTERY       B2            319   \n",
       "318360                         VERBAL DISPUTE      D14            939   \n",
       "\n",
       "       SHOOTING     OCCURRED_ON_DATE  YEAR  MONTH DAY_OF_WEEK  HOUR  \\\n",
       "35710       NaN  2018-05-01 08:52:00  2018      5     Tuesday     8   \n",
       "270509      NaN  2015-12-13 17:07:00  2015     12      Sunday    17   \n",
       "74362       NaN  2017-11-28 22:49:00  2017     11     Tuesday    22   \n",
       "968         NaN  2018-08-31 08:22:06  2018      8      Friday     8   \n",
       "318360      NaN  2015-06-16 17:25:00  2015      6     Tuesday    17   \n",
       "\n",
       "          UCR_PART             STREET        Lat       Long  \\\n",
       "35710   Part Three          GERARD ST  42.330628 -71.072107   \n",
       "270509    Part One  MASSACHUSETTS AVE  42.335621 -71.075824   \n",
       "74362     Part Two       WESTVILLE ST  42.300106 -71.071027   \n",
       "968       Part Two          SEAVER ST  42.306040 -71.086212   \n",
       "318360  Part Three         FANEUIL ST  42.355553 -71.152747   \n",
       "\n",
       "                           Location  \n",
       "35710   (42.33062755, -71.07210653)  \n",
       "270509  (42.33562126, -71.07582361)  \n",
       "74362   (42.30010597, -71.07102710)  \n",
       "968     (42.30603974, -71.08621240)  \n",
       "318360  (42.35555336, -71.15274721)  "
      ]
     },
     "execution_count": 29,
     "metadata": {},
     "output_type": "execute_result"
    }
   ],
   "source": [
    "data.head()\n"
   ]
  },
  {
   "cell_type": "code",
   "execution_count": 30,
   "metadata": {},
   "outputs": [],
   "source": [
    "data.drop(columns=['SHOOTING'], inplace=True)\n",
    "data.dropna(inplace=True)"
   ]
  },
  {
   "cell_type": "code",
   "execution_count": 31,
   "metadata": {},
   "outputs": [],
   "source": [
    "label_encoder = LabelEncoder()\n",
    "data['DAYS_ENCODED'] = label_encoder.fit_transform(data['DAY_OF_WEEK'])\n",
    "data['DISTRICT_ENCODED'] = label_encoder.fit_transform(data['DISTRICT'])\n",
    "data['OFFENSE_CODE_GROUP_ENCODED'] = label_encoder.fit_transform(data['OFFENSE_CODE_GROUP'])\n",
    "data['REPORTING_AREA_ENCODED'] = label_encoder.fit_transform(data['REPORTING_AREA'])\n",
    "data['UCR_PART_ENCODED'] = label_encoder.fit_transform(data['UCR_PART'])\n",
    "data['LOCATION_ENCODED'] = label_encoder.fit_transform(data['Location'])\n",
    "data['STREET_ENCODED'] = label_encoder.fit_transform(data['STREET'])\n",
    "\n",
    "y = data['DISTRICT_ENCODED']\n"
   ]
  },
  {
   "cell_type": "code",
   "execution_count": 32,
   "metadata": {},
   "outputs": [],
   "source": [
    "columns_to_drop = ['INCIDENT_NUMBER', 'OFFENSE_CODE_GROUP', 'DISTRICT', 'OFFENSE_DESCRIPTION','REPORTING_AREA', 'OCCURRED_ON_DATE',\n",
    "                  'DAY_OF_WEEK','UCR_PART','STREET_ENCODED','STREET','Location','DISTRICT_ENCODED']\n",
    "X=data.drop(columns_to_drop, axis=1, inplace=True)\n"
   ]
  },
  {
   "cell_type": "code",
   "execution_count": null,
   "metadata": {},
   "outputs": [],
   "source": [
    "\n",
    "\n"
   ]
  },
  {
   "cell_type": "code",
   "execution_count": 33,
   "metadata": {},
   "outputs": [],
   "source": [
    "X"
   ]
  },
  {
   "cell_type": "code",
   "execution_count": 34,
   "metadata": {},
   "outputs": [
    {
     "data": {
      "text/plain": [
       "REPORTING_AREA_ENCODED        0.191641\n",
       "DAYS_ENCODED                  0.022451\n",
       "YEAR                          0.017917\n",
       "HOUR                          0.009650\n",
       "OFFENSE_CODE_GROUP_ENCODED   -0.033217\n",
       "OFFENSE_CODE                 -0.086450\n",
       "MONTH                        -0.095492\n",
       "UCR_PART_ENCODED             -0.114320\n",
       "Lat                          -0.369583\n",
       "Long                         -0.555583\n",
       "dtype: float64"
      ]
     },
     "execution_count": 34,
     "metadata": {},
     "output_type": "execute_result"
    }
   ],
   "source": [
    "fields = list(data.columns[:-1])  # everything except the last column\n",
    "correlations = data[fields].corrwith(y)\n",
    "correlations.sort_values(inplace=True, ascending=False)\n",
    "correlations"
   ]
  },
  {
   "cell_type": "code",
   "execution_count": 35,
   "metadata": {},
   "outputs": [
    {
     "data": {
      "image/png": "[encoded data removed]",
      "text/plain": [
       "<Figure size 1500x500 with 1 Axes>"
      ]
     },
     "metadata": {},
     "output_type": "display_data"
    }
   ],
   "source": [
    "correlations.plot(kind='bar', figsize=(15,5))\n",
    "plt.tick_params(labelsize=10);"
   ]
  },
  {
   "cell_type": "code",
   "execution_count": 36,
   "metadata": {},
   "outputs": [
    {
     "data": {
      "text/plain": [
       "Index(['Long', 'Lat'], dtype='object')"
      ]
     },
     "execution_count": 36,
     "metadata": {},
     "output_type": "execute_result"
    }
   ],
   "source": [
    "#get top two features using absolute value of correlations (neg+pos)\n",
    "correlations.abs().nlargest(2).index\n",
    "\n"
   ]
  },
  {
   "cell_type": "code",
   "execution_count": 37,
   "metadata": {},
   "outputs": [],
   "source": [
    "#get data using only top two columns from the correlation\n",
    "X=data[correlations.abs().nlargest(2).index]"
   ]
  },
  {
   "cell_type": "code",
   "execution_count": 38,
   "metadata": {},
   "outputs": [],
   "source": [
    "from sklearn.preprocessing import MinMaxScaler\n",
    "scaler=MinMaxScaler()\n",
    "\n",
    "X=scaler.fit_transform(X)\n"
   ]
  },
  {
   "cell_type": "code",
   "execution_count": 39,
   "metadata": {},
   "outputs": [],
   "source": [
    "#after scaling, data will be presented in numpy. For better plotting, it is best to turn them into dataframe again\n",
    "X=pd.DataFrame(X, columns=correlations.abs().nlargest(2).index)\n"
   ]
  },
  {
   "cell_type": "code",
   "execution_count": null,
   "metadata": {},
   "outputs": [],
   "source": [
    "\n",
    "\n"
   ]
  },
  {
   "cell_type": "code",
   "execution_count": 40,
   "metadata": {},
   "outputs": [
    {
     "name": "stdout",
     "output_type": "stream",
     "text": [
      "Best Hyperparameters: {'C': 10, 'gamma': 1, 'kernel': 'rbf'}\n",
      "Accuracy: 0.9139784946236559\n"
     ]
    }
   ],
   "source": [
    "from sklearn.svm import SVC\n",
    "#Split data into train and test data\n",
    "X_train, X_test, y_train, y_test = train_test_split(X, y, test_size=0.2, random_state=42)\n",
    "\n",
    "#scale the data\n",
    "scaler = StandardScaler()\n",
    "X_train_scaled = scaler.fit_transform(X_train)\n",
    "X_test_scaled = scaler.transform(X_test)\n",
    "#Set parameter\n",
    "param_grid = {'C': [0.1,1,10],'kernel': ['linear', 'rbf', 'poly'], 'gamma': [1,0.1,10]}\n",
    "\n",
    "#SMV\n",
    "svm_classifier = SVC()\n",
    "\n",
    "\n",
    "#Find the best value\n",
    "grid_search = GridSearchCV(estimator=svm_classifier, param_grid=param_grid, cv=5, n_jobs=-1)\n",
    "grid_search.fit(X_train_scaled, y_train)\n",
    "\n",
    "# Print the best hyperparameters found\n",
    "print(\"Best Hyperparameters:\", grid_search.best_params_)\n",
    "\n",
    "\n",
    "# Make predictions with the best model\n",
    "best_model = grid_search.best_estimator_\n",
    "y_pred = best_model.predict(X_test_scaled)\n",
    "\n",
    "accuracy = accuracy_score(y_test, y_pred)\n",
    "print(\"Accuracy:\", accuracy)"
   ]
  },
  {
   "cell_type": "code",
   "execution_count": 41,
   "metadata": {},
   "outputs": [
    {
     "name": "stdout",
     "output_type": "stream",
     "text": [
      "              precision    recall  f1-score   support\n",
      "\n",
      "           0       1.00      1.00      1.00         4\n",
      "           1       1.00      1.00      1.00         3\n",
      "           2       1.00      1.00      1.00         2\n",
      "           3       1.00      0.71      0.83        17\n",
      "           4       1.00      0.87      0.93        15\n",
      "           5       0.82      1.00      0.90        14\n",
      "           6       1.00      0.75      0.86         4\n",
      "           7       1.00      1.00      1.00         8\n",
      "           8       0.92      1.00      0.96        12\n",
      "           9       0.73      1.00      0.84         8\n",
      "          10       0.80      1.00      0.89         4\n",
      "          11       1.00      1.00      1.00         2\n",
      "\n",
      "    accuracy                           0.91        93\n",
      "   macro avg       0.94      0.94      0.93        93\n",
      "weighted avg       0.93      0.91      0.91        93\n",
      "\n"
     ]
    }
   ],
   "source": [
    "\n",
    "\n",
    "# Print the classification report\n",
    "print(classification_report(y_test, y_pred))\n"
   ]
  },
  {
   "cell_type": "code",
   "execution_count": null,
   "metadata": {},
   "outputs": [],
   "source": []
  },
  {
   "cell_type": "code",
   "execution_count": null,
   "metadata": {},
   "outputs": [],
   "source": []
  },
  {
   "cell_type": "code",
   "execution_count": null,
   "metadata": {},
   "outputs": [],
   "source": []
  },
  {
   "cell_type": "code",
   "execution_count": null,
   "metadata": {},
   "outputs": [],
   "source": []
  }
 ],
 "metadata": {
  "kernelspec": {
   "display_name": "Python 3 (ipykernel)",
   "language": "python",
   "name": "python3"
  },
  "language_info": {
   "codemirror_mode": {
    "name": "ipython",
    "version": 3
   },
   "file_extension": ".py",
   "mimetype": "text/x-python",
   "name": "python",
   "nbconvert_exporter": "python",
   "pygments_lexer": "ipython3",
   "version": "3.9.18"
  }
 },
 "nbformat": 4,
 "nbformat_minor": 4
}
